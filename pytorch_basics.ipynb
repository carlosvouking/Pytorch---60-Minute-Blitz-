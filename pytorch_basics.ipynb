{
 "cells": [
  {
   "cell_type": "markdown",
   "metadata": {},
   "source": [
    "## Pytorch Basics - A 60 Minute Blitz. Reference: [Pytorch.org](https://pytorch.org/tutorials/beginner/deep_learning_60min_blitz.html)"
   ]
  },
  {
   "cell_type": "markdown",
   "metadata": {},
   "source": [
    "A python-based computation package such as [Numpy](http://www.numpy.org/), and a speedy and flexible deep learning research platform."
   ]
  },
  {
   "cell_type": "markdown",
   "metadata": {},
   "source": [
    "### TENSORS"
   ]
  },
  {
   "cell_type": "markdown",
   "metadata": {},
   "source": [
    "> On top of mirroring **numpy ndarrays** (n-dimensional array), **pytorch tensors** can help accelerate GPU computing (deep learning purposes). Numpy remains the  'go-to package' for ndarrays. "
   ]
  },
  {
   "cell_type": "code",
   "execution_count": 1,
   "metadata": {},
   "outputs": [],
   "source": [
    "from __future__ import print_function\n",
    "import torch\n",
    "import numpy as np"
   ]
  },
  {
   "cell_type": "code",
   "execution_count": 2,
   "metadata": {},
   "outputs": [
    {
     "name": "stdout",
     "output_type": "stream",
     "text": [
      "Currently running pytorch version: 0.4.1\n"
     ]
    }
   ],
   "source": [
    "print(f'Currently running pytorch version: {torch.__version__}')"
   ]
  },
  {
   "cell_type": "code",
   "execution_count": 3,
   "metadata": {},
   "outputs": [
    {
     "name": "stdout",
     "output_type": "stream",
     "text": [
      "Supported Nvidia GPU available on the system: True\n"
     ]
    }
   ],
   "source": [
    "print(f'Supported Nvidia GPU available on the system: {torch.cuda.is_available()}')"
   ]
  },
  {
   "cell_type": "code",
   "execution_count": 4,
   "metadata": {},
   "outputs": [
    {
     "data": {
      "text/plain": [
       "'8.0.61'"
      ]
     },
     "execution_count": 4,
     "metadata": {},
     "output_type": "execute_result"
    }
   ],
   "source": [
    "torch.version.cuda"
   ]
  },
  {
   "cell_type": "markdown",
   "metadata": {},
   "source": [
    "* An uninitialized 7 by 4 matrix (7 rows and 4 coluymns)"
   ]
  },
  {
   "cell_type": "code",
   "execution_count": 5,
   "metadata": {},
   "outputs": [
    {
     "name": "stdout",
     "output_type": "stream",
     "text": [
      "tensor([[6.1146e+22, 4.5671e-41, 6.1146e+22, 4.5671e-41],\n",
      "        [0.0000e+00, 0.0000e+00, 0.0000e+00, 0.0000e+00],\n",
      "        [0.0000e+00, 0.0000e+00, 0.0000e+00, 0.0000e+00],\n",
      "        [0.0000e+00, 0.0000e+00, 0.0000e+00, 0.0000e+00],\n",
      "        [0.0000e+00, 0.0000e+00, 0.0000e+00, 0.0000e+00],\n",
      "        [0.0000e+00, 0.0000e+00, 0.0000e+00, 0.0000e+00],\n",
      "        [0.0000e+00, 0.0000e+00, 0.0000e+00, 0.0000e+00]])\n"
     ]
    },
    {
     "data": {
      "text/plain": [
       "torch.Tensor"
      ]
     },
     "execution_count": 5,
     "metadata": {},
     "output_type": "execute_result"
    }
   ],
   "source": [
    "x = torch.empty(7, 4)\n",
    "print(x)\n",
    "type(x)"
   ]
  },
  {
   "cell_type": "markdown",
   "metadata": {},
   "source": [
    "* As for numpy"
   ]
  },
  {
   "cell_type": "code",
   "execution_count": 6,
   "metadata": {},
   "outputs": [
    {
     "name": "stdout",
     "output_type": "stream",
     "text": [
      "[[0.00000000e+000 0.00000000e+000 0.00000000e+000 0.00000000e+000]\n",
      " [4.67343581e-310 4.67343579e-310 4.67343579e-310 0.00000000e+000]\n",
      " [0.00000000e+000 0.00000000e+000 0.00000000e+000 4.67343581e-310]\n",
      " [4.67343579e-310 4.67343579e-310 0.00000000e+000 0.00000000e+000]\n",
      " [0.00000000e+000 0.00000000e+000 4.67343581e-310 4.67343578e-310]\n",
      " [4.67343578e-310 0.00000000e+000 0.00000000e+000 0.00000000e+000]\n",
      " [1.42290906e-321 3.16202013e-322 4.67343583e-310 4.67343578e-310]]\n"
     ]
    },
    {
     "data": {
      "text/plain": [
       "numpy.ndarray"
      ]
     },
     "execution_count": 6,
     "metadata": {},
     "output_type": "execute_result"
    }
   ],
   "source": [
    "y = np.empty([7, 4])\n",
    "print(y)\n",
    "type(y)"
   ]
  },
  {
   "cell_type": "markdown",
   "metadata": {},
   "source": [
    "* Randomly initialized 7 by 4 matrix"
   ]
  },
  {
   "cell_type": "code",
   "execution_count": 7,
   "metadata": {},
   "outputs": [
    {
     "name": "stdout",
     "output_type": "stream",
     "text": [
      "tensor([[0.5616, 0.1875, 0.5229, 0.2906],\n",
      "        [0.9674, 0.6974, 0.7566, 0.3413],\n",
      "        [0.5248, 0.2511, 0.1140, 0.1679],\n",
      "        [0.1047, 0.4570, 0.1143, 0.2904],\n",
      "        [0.5388, 0.4611, 0.9108, 0.0192],\n",
      "        [0.3632, 0.4652, 0.9261, 0.1992],\n",
      "        [0.8409, 0.2861, 0.1795, 0.4132]])\n"
     ]
    },
    {
     "data": {
      "text/plain": [
       "torch.Tensor"
      ]
     },
     "execution_count": 7,
     "metadata": {},
     "output_type": "execute_result"
    }
   ],
   "source": [
    "x = torch.rand(7, 4)\n",
    "print(x)\n",
    "type(x)"
   ]
  },
  {
   "cell_type": "markdown",
   "metadata": {},
   "source": [
    "* Matrix filled zeros with dtype long"
   ]
  },
  {
   "cell_type": "code",
   "execution_count": 8,
   "metadata": {},
   "outputs": [
    {
     "name": "stdout",
     "output_type": "stream",
     "text": [
      "tensor([[0, 0, 0, 0],\n",
      "        [0, 0, 0, 0],\n",
      "        [0, 0, 0, 0],\n",
      "        [0, 0, 0, 0],\n",
      "        [0, 0, 0, 0],\n",
      "        [0, 0, 0, 0],\n",
      "        [0, 0, 0, 0]])\n"
     ]
    },
    {
     "data": {
      "text/plain": [
       "torch.Tensor"
      ]
     },
     "execution_count": 8,
     "metadata": {},
     "output_type": "execute_result"
    }
   ],
   "source": [
    "x = torch.zeros(7, 4, dtype=torch.long)\n",
    "print(x)\n",
    "type(x)"
   ]
  },
  {
   "cell_type": "markdown",
   "metadata": {},
   "source": [
    "* numpy comparison: a 7 by 4 numpy array filled zeros"
   ]
  },
  {
   "cell_type": "code",
   "execution_count": 9,
   "metadata": {},
   "outputs": [
    {
     "name": "stdout",
     "output_type": "stream",
     "text": [
      "[[0. 0. 0. 0.]\n",
      " [0. 0. 0. 0.]\n",
      " [0. 0. 0. 0.]\n",
      " [0. 0. 0. 0.]\n",
      " [0. 0. 0. 0.]\n",
      " [0. 0. 0. 0.]\n",
      " [0. 0. 0. 0.]]\n"
     ]
    },
    {
     "data": {
      "text/plain": [
       "numpy.ndarray"
      ]
     },
     "execution_count": 9,
     "metadata": {},
     "output_type": "execute_result"
    }
   ],
   "source": [
    "y = np.zeros([7, 4])\n",
    "print(y)\n",
    "type(y)"
   ]
  },
  {
   "cell_type": "markdown",
   "metadata": {},
   "source": [
    "* A pytorch tensor straight from data"
   ]
  },
  {
   "cell_type": "code",
   "execution_count": 10,
   "metadata": {},
   "outputs": [
    {
     "name": "stdout",
     "output_type": "stream",
     "text": [
      "tensor([7.2000, 3.0000])\n"
     ]
    },
    {
     "data": {
      "text/plain": [
       "torch.Tensor"
      ]
     },
     "execution_count": 10,
     "metadata": {},
     "output_type": "execute_result"
    }
   ],
   "source": [
    "x = torch.tensor([7.2, 3])\n",
    "print(x)\n",
    "type(x)"
   ]
  },
  {
   "cell_type": "markdown",
   "metadata": {},
   "source": [
    "* Numpy equivalent"
   ]
  },
  {
   "cell_type": "code",
   "execution_count": 11,
   "metadata": {},
   "outputs": [
    {
     "name": "stdout",
     "output_type": "stream",
     "text": [
      "[7.2 3. ]\n"
     ]
    },
    {
     "data": {
      "text/plain": [
       "numpy.ndarray"
      ]
     },
     "execution_count": 11,
     "metadata": {},
     "output_type": "execute_result"
    }
   ],
   "source": [
    "y = np.array([7.2, 3])\n",
    "print(y)\n",
    "type(y)"
   ]
  },
  {
   "cell_type": "markdown",
   "metadata": {},
   "source": [
    "* pytorch tensor based on a existing tensor"
   ]
  },
  {
   "cell_type": "code",
   "execution_count": 12,
   "metadata": {},
   "outputs": [
    {
     "name": "stdout",
     "output_type": "stream",
     "text": [
      "tensor([[0., 0., 0.],\n",
      "        [0., 0., 0.],\n",
      "        [0., 0., 0.],\n",
      "        [0., 0., 0.],\n",
      "        [0., 0., 0.],\n",
      "        [0., 0., 0.],\n",
      "        [0., 0., 0.]], dtype=torch.float64)\n",
      "\n",
      "tensor([[ 1.5426, -0.6466, -0.6658],\n",
      "        [-0.8203, -0.4404, -0.8503],\n",
      "        [-0.3262,  0.3594,  0.3836],\n",
      "        [ 2.0644,  0.0615, -1.1872],\n",
      "        [-0.5204,  0.3759, -1.3485],\n",
      "        [-0.3419,  2.1061, -1.1525],\n",
      "        [ 0.5928,  0.0503,  0.9225]])\n",
      "\n",
      "torch.Size([7, 3])\n"
     ]
    }
   ],
   "source": [
    "x = x.new_zeros(7, 3, dtype=torch.double)\n",
    "print(x)\n",
    "print('')\n",
    "# overriding the dimension type...\n",
    "x = torch.randn_like(x, dtype=torch.float)\n",
    "print(x)\n",
    "print('')\n",
    "# the result is a tensor of the same size.\n",
    "print(x.size())"
   ]
  },
  {
   "cell_type": "markdown",
   "metadata": {},
   "source": [
    " ==> Diving next into pytorch operations . . . "
   ]
  },
  {
   "cell_type": "markdown",
   "metadata": {},
   "source": [
    "### OPERATIONS"
   ]
  },
  {
   "cell_type": "markdown",
   "metadata": {},
   "source": [
    "### (I)- Additions"
   ]
  },
  {
   "cell_type": "code",
   "execution_count": 13,
   "metadata": {},
   "outputs": [
    {
     "name": "stdout",
     "output_type": "stream",
     "text": [
      "tensor([[ 1.5426, -0.6466, -0.6658],\n",
      "        [-0.8203, -0.4404, -0.8503],\n",
      "        [-0.3262,  0.3594,  0.3836],\n",
      "        [ 2.0644,  0.0615, -1.1872],\n",
      "        [-0.5204,  0.3759, -1.3485],\n",
      "        [-0.3419,  2.1061, -1.1525],\n",
      "        [ 0.5928,  0.0503,  0.9225]])\n"
     ]
    },
    {
     "data": {
      "text/plain": [
       "torch.Size([7, 3])"
      ]
     },
     "execution_count": 13,
     "metadata": {},
     "output_type": "execute_result"
    }
   ],
   "source": [
    "print(x)\n",
    "x.size()"
   ]
  },
  {
   "cell_type": "code",
   "execution_count": 14,
   "metadata": {},
   "outputs": [
    {
     "name": "stdout",
     "output_type": "stream",
     "text": [
      "tensor([[0.5500, 0.7317, 0.6718],\n",
      "        [0.5120, 0.7446, 0.8769],\n",
      "        [0.2182, 0.5922, 0.7707],\n",
      "        [0.4454, 0.9620, 0.7703],\n",
      "        [0.2336, 0.3559, 0.9050],\n",
      "        [0.4277, 0.8968, 0.5697],\n",
      "        [0.4747, 0.9767, 0.6914]])\n"
     ]
    },
    {
     "data": {
      "text/plain": [
       "torch.Size([7, 3])"
      ]
     },
     "execution_count": 14,
     "metadata": {},
     "output_type": "execute_result"
    }
   ],
   "source": [
    "y = torch.rand(7, 3)\n",
    "print(y)\n",
    "y.size()"
   ]
  },
  {
   "cell_type": "code",
   "execution_count": 15,
   "metadata": {},
   "outputs": [
    {
     "name": "stdout",
     "output_type": "stream",
     "text": [
      "Sum of x and y tensors: \n",
      " tensor([[ 2.0927,  0.0851,  0.0061],\n",
      "        [-0.3082,  0.3042,  0.0266],\n",
      "        [-0.1079,  0.9516,  1.1543],\n",
      "        [ 2.5098,  1.0234, -0.4169],\n",
      "        [-0.2868,  0.7318, -0.4436],\n",
      "        [ 0.0858,  3.0029, -0.5827],\n",
      "        [ 1.0675,  1.0270,  1.6139]])\n",
      "\n",
      "<class 'torch.Tensor'>\n",
      "\n",
      "torch.Size([7, 3])\n"
     ]
    }
   ],
   "source": [
    "x_plus_y = x + y\n",
    "print(f'Sum of x and y tensors: \\n {x_plus_y}')\n",
    "print('')\n",
    "print(type(x_plus_y))\n",
    "print('')\n",
    "print(x_plus_y.size())"
   ]
  },
  {
   "cell_type": "markdown",
   "metadata": {},
   "source": [
    "#### * Or equally by using **torch.add()**"
   ]
  },
  {
   "cell_type": "code",
   "execution_count": 16,
   "metadata": {},
   "outputs": [
    {
     "name": "stdout",
     "output_type": "stream",
     "text": [
      "Sum of x and y tensors: \n",
      " tensor([[ 2.0927,  0.0851,  0.0061],\n",
      "        [-0.3082,  0.3042,  0.0266],\n",
      "        [-0.1079,  0.9516,  1.1543],\n",
      "        [ 2.5098,  1.0234, -0.4169],\n",
      "        [-0.2868,  0.7318, -0.4436],\n",
      "        [ 0.0858,  3.0029, -0.5827],\n",
      "        [ 1.0675,  1.0270,  1.6139]])\n",
      "\n",
      "<class 'torch.Tensor'>\n",
      "\n",
      "torch.Size([7, 3])\n"
     ]
    }
   ],
   "source": [
    "x_plus_y = torch.add(x, y)\n",
    "print(f'Sum of x and y tensors: \\n {x_plus_y}')\n",
    "print('')\n",
    "print(type(x_plus_y))\n",
    "print('')\n",
    "print(x_plus_y.size())"
   ]
  },
  {
   "cell_type": "markdown",
   "metadata": {},
   "source": [
    "#### * or by providing an output tensor as argument of the .add() function"
   ]
  },
  {
   "cell_type": "code",
   "execution_count": 17,
   "metadata": {},
   "outputs": [
    {
     "name": "stdout",
     "output_type": "stream",
     "text": [
      "Sum of x and y tensors: \n",
      " tensor([[ 2.0927,  0.0851,  0.0061],\n",
      "        [-0.3082,  0.3042,  0.0266],\n",
      "        [-0.1079,  0.9516,  1.1543],\n",
      "        [ 2.5098,  1.0234, -0.4169],\n",
      "        [-0.2868,  0.7318, -0.4436],\n",
      "        [ 0.0858,  3.0029, -0.5827],\n",
      "        [ 1.0675,  1.0270,  1.6139]])\n",
      "\n",
      "<class 'torch.Tensor'>\n",
      "\n",
      "torch.Size([7, 3])\n"
     ]
    }
   ],
   "source": [
    "# output result tensor with the same dimension as x and y\n",
    "result = torch.empty(7, 4)\n",
    "# addition\n",
    "x_plus_y = torch.add(x, y, out=result)\n",
    "print(f'Sum of x and y tensors: \\n {x_plus_y}')\n",
    "print('')\n",
    "print(type(x_plus_y))\n",
    "print('')\n",
    "print(x_plus_y.size())"
   ]
  },
  {
   "cell_type": "markdown",
   "metadata": {},
   "source": [
    "#### * In-place addition: addition mutates a the tensor y in-place, then the **add()** is suffixed with a **_**."
   ]
  },
  {
   "cell_type": "code",
   "execution_count": 18,
   "metadata": {},
   "outputs": [
    {
     "name": "stdout",
     "output_type": "stream",
     "text": [
      "tensor([[ 2.0927,  0.0851,  0.0061],\n",
      "        [-0.3082,  0.3042,  0.0266],\n",
      "        [-0.1079,  0.9516,  1.1543],\n",
      "        [ 2.5098,  1.0234, -0.4169],\n",
      "        [-0.2868,  0.7318, -0.4436],\n",
      "        [ 0.0858,  3.0029, -0.5827],\n",
      "        [ 1.0675,  1.0270,  1.6139]])\n",
      "\n",
      "<class 'torch.Tensor'>\n",
      "\n",
      "torch.Size([7, 3])\n"
     ]
    }
   ],
   "source": [
    "y.add_(x)\n",
    "print(y)\n",
    "print('')\n",
    "print(type(y))\n",
    "print('')\n",
    "print(y.size())"
   ]
  },
  {
   "cell_type": "markdown",
   "metadata": {},
   "source": [
    "#### * Traditional numpy indexing on pytorch tensors"
   ]
  },
  {
   "cell_type": "code",
   "execution_count": 19,
   "metadata": {},
   "outputs": [
    {
     "name": "stdout",
     "output_type": "stream",
     "text": [
      "tensor([0.0851, 0.3042, 0.9516, 1.0234, 0.7318, 3.0029, 1.0270])\n"
     ]
    }
   ],
   "source": [
    "# All rows of the second column from the tensor sum of x and y.\n",
    "print(x_plus_y[:, 1])"
   ]
  },
  {
   "cell_type": "markdown",
   "metadata": {},
   "source": [
    "#### * Resizing or reshaping pytorch tensors with **torch.view()**"
   ]
  },
  {
   "cell_type": "code",
   "execution_count": 20,
   "metadata": {},
   "outputs": [
    {
     "name": "stdout",
     "output_type": "stream",
     "text": [
      "tensor([[ 1.0418, -0.3099,  1.6922, -0.3365],\n",
      "        [ 0.5222, -0.1985, -0.2994, -0.0609],\n",
      "        [-1.5875, -0.6949,  0.1455, -1.6291],\n",
      "        [-1.8647,  0.0842, -0.3113, -1.5992]])\n",
      "torch.Size([4, 4])\n",
      "\n",
      "tensor([ 1.0418, -0.3099,  1.6922, -0.3365,  0.5222, -0.1985, -0.2994, -0.0609,\n",
      "        -1.5875, -0.6949,  0.1455, -1.6291, -1.8647,  0.0842, -0.3113, -1.5992])\n",
      "torch.Size([16])\n",
      "\n",
      "tensor([[ 1.0418, -0.3099,  1.6922, -0.3365,  0.5222, -0.1985, -0.2994, -0.0609],\n",
      "        [-1.5875, -0.6949,  0.1455, -1.6291, -1.8647,  0.0842, -0.3113, -1.5992]])\n",
      "torch.Size([2, 8])\n",
      "tensor([[ 1.0418, -0.3099],\n",
      "        [ 1.6922, -0.3365],\n",
      "        [ 0.5222, -0.1985],\n",
      "        [-0.2994, -0.0609],\n",
      "        [-1.5875, -0.6949],\n",
      "        [ 0.1455, -1.6291],\n",
      "        [-1.8647,  0.0842],\n",
      "        [-0.3113, -1.5992]])\n",
      "torch.Size([8, 2])\n"
     ]
    }
   ],
   "source": [
    "x = torch.randn(4, 4)\n",
    "print(x)\n",
    "print(x.size()) \n",
    "print('')\n",
    "\n",
    "y = x.view(16)\n",
    "print(y)\n",
    "print(y.size())\n",
    "print('')\n",
    "\n",
    "z = x.view(-1, 8)   # size -1 is inferred from other dimesions.\n",
    "print(z)\n",
    "print(z.size())\n",
    "\n",
    "w = x.reshape(8,2)\n",
    "print(w)\n",
    "print(w.shape)"
   ]
  },
  {
   "cell_type": "markdown",
   "metadata": {},
   "source": [
    "#### * Use **.item()** to get the value as a Python number in case of one element tensor"
   ]
  },
  {
   "cell_type": "code",
   "execution_count": 21,
   "metadata": {},
   "outputs": [
    {
     "name": "stdout",
     "output_type": "stream",
     "text": [
      "tensor([1.1503])\n",
      "1.1503031253814697\n",
      "torch.FloatTensor\n"
     ]
    }
   ],
   "source": [
    "x = torch.randn(1)\n",
    "print(x)\n",
    "print(x.item())\n",
    "print(x.type())"
   ]
  },
  {
   "cell_type": "code",
   "execution_count": 22,
   "metadata": {},
   "outputs": [
    {
     "data": {
      "text/plain": [
       "True"
      ]
     },
     "execution_count": 22,
     "metadata": {},
     "output_type": "execute_result"
    }
   ],
   "source": [
    "torch.is_tensor(x_plus_y)"
   ]
  },
  {
   "cell_type": "markdown",
   "metadata": {},
   "source": [
    "### * Understanding Pytorch tensors: Ranks - Axes - Shapes\n",
    "> Rank tells us the number of axes of the tensor :: here x_plus_y is a **Rank 2 tensor**"
   ]
  },
  {
   "cell_type": "code",
   "execution_count": 23,
   "metadata": {},
   "outputs": [
    {
     "name": "stdout",
     "output_type": "stream",
     "text": [
      "1rst element of axis 1: tensor([2.0927, 0.0851, 0.0061])\n",
      "2nd element of axis 1: tensor([-0.3082,  0.3042,  0.0266])\n",
      "3rd element of axis 1: tensor([-0.1079,  0.9516,  1.1543])\n",
      "4th element of axis 1: tensor([ 2.5098,  1.0234, -0.4169])\n",
      "5th element of axis 1: tensor([-0.2868,  0.7318, -0.4436])\n",
      "6th element of axis 1: tensor([ 0.0858,  3.0029, -0.5827])\n",
      "7th element of axis 1: tensor([1.0675, 1.0270, 1.6139])\n"
     ]
    }
   ],
   "source": [
    "# 1rst index of axis 1 :: first element along the first axis of the tensor :: each of those eelements is an array.\n",
    "print(f'1rst element of axis 1: {x_plus_y[0]}')\n",
    "\n",
    "# 2nd index along the first axis of the tensor\n",
    "print(f'2nd element of axis 1: {x_plus_y[1]}')\n",
    "\n",
    "# 3rd index along the first axis of the tensor\n",
    "print(f'3rd element of axis 1: {x_plus_y[2]}')\n",
    "\n",
    "# 4th index along the first axis of the tensor\n",
    "print(f'4th element of axis 1: {x_plus_y[3]}')\n",
    "\n",
    "# 5th index along the first axis of the tensor\n",
    "print(f'5th element of axis 1: {x_plus_y[4]}')\n",
    "\n",
    "# 6th index along the first axis of the tensor\n",
    "print(f'6th element of axis 1: {x_plus_y[5]}')\n",
    "\n",
    "# 7th index along the first axis of the tensor\n",
    "print(f'7th element of axis 1: {x_plus_y[6]}')"
   ]
  },
  {
   "cell_type": "code",
   "execution_count": 24,
   "metadata": {},
   "outputs": [
    {
     "name": "stdout",
     "output_type": "stream",
     "text": [
      "tensor(2.0927)\n",
      "tensor(-0.3082)\n",
      "tensor(-0.1079)\n",
      "tensor(-0.2868)\n",
      "tensor(0.0858)\n",
      "tensor(1.0675)\n"
     ]
    }
   ],
   "source": [
    "# first index of axis 2 :: each of these elements is a float \n",
    "print(x_plus_y[0][0])\n",
    "\n",
    "print(x_plus_y[1][0])\n",
    "\n",
    "print(x_plus_y[2][0])\n",
    "\n",
    "print(x_plus_y[4][0])\n",
    "\n",
    "print(x_plus_y[5][0])\n",
    "\n",
    "print(x_plus_y[6][0])"
   ]
  },
  {
   "cell_type": "code",
   "execution_count": 25,
   "metadata": {},
   "outputs": [
    {
     "name": "stdout",
     "output_type": "stream",
     "text": [
      "tensor(0.0851)\n",
      "tensor(0.3042)\n",
      "tensor(0.9516)\n",
      "tensor(1.0234)\n",
      "tensor(0.7318)\n",
      "tensor(3.0029)\n",
      "tensor(1.0270)\n"
     ]
    }
   ],
   "source": [
    "# second index of axis 2 \n",
    "print(x_plus_y[0][1])\n",
    "\n",
    "print(x_plus_y[1][1])\n",
    "\n",
    "print(x_plus_y[2][1])\n",
    "\n",
    "print(x_plus_y[3][1])\n",
    "\n",
    "print(x_plus_y[4][1])\n",
    "\n",
    "print(x_plus_y[5][1])\n",
    "\n",
    "print(x_plus_y[6][1])"
   ]
  },
  {
   "cell_type": "code",
   "execution_count": 26,
   "metadata": {},
   "outputs": [
    {
     "name": "stdout",
     "output_type": "stream",
     "text": [
      "tensor(0.0061)\n",
      "tensor(0.0266)\n",
      "tensor(1.1543)\n",
      "tensor(-0.4169)\n",
      "tensor(-0.4436)\n",
      "tensor(-0.5827)\n",
      "tensor(1.6139)\n"
     ]
    }
   ],
   "source": [
    "# third index of axis 2\n",
    "print(x_plus_y[0][2])\n",
    "\n",
    "print(x_plus_y[1][2])\n",
    "\n",
    "print(x_plus_y[2][2])\n",
    "\n",
    "print(x_plus_y[3][2])\n",
    "\n",
    "print(x_plus_y[4][2])\n",
    "\n",
    "print(x_plus_y[5][2])\n",
    "\n",
    "print(x_plus_y[6][2])"
   ]
  },
  {
   "cell_type": "markdown",
   "metadata": {},
   "source": [
    "#### * Kowing the shape of a tensor means knowing the length of its axes. This also tells how many indexes are available along each axis.\n",
    "> The first axis has 7 indexes(length=7) and the second axis 3 indexes(length=3). In pytorch shape and size means the same thing. Don't be surprised by the result saying 'torch.Size'."
   ]
  },
  {
   "cell_type": "code",
   "execution_count": 27,
   "metadata": {},
   "outputs": [
    {
     "data": {
      "text/plain": [
       "torch.Size([7, 3])"
      ]
     },
     "execution_count": 27,
     "metadata": {},
     "output_type": "execute_result"
    }
   ],
   "source": [
    "x_plus_y.shape"
   ]
  },
  {
   "cell_type": "markdown",
   "metadata": {},
   "source": [
    "> The rank of x_plus_y is just the length of its shape."
   ]
  },
  {
   "cell_type": "code",
   "execution_count": 28,
   "metadata": {},
   "outputs": [
    {
     "name": "stdout",
     "output_type": "stream",
     "text": [
      "x_plus_y is of rank: 2.\n"
     ]
    }
   ],
   "source": [
    "rank = len(x_plus_y.shape)\n",
    "print(f'x_plus_y is of rank: {rank}.')"
   ]
  },
  {
   "cell_type": "markdown",
   "metadata": {},
   "source": [
    "### * Tensors reshaping on Convolutional Neural Nets (CNN)\n",
    "> We have here an image input as a tensor to a CNN. Also remembering that the shape of a tensor encapsulates the information on the tensor rank, axes and indexes.\n"
   ]
  },
  {
   "cell_type": "code",
   "execution_count": null,
   "metadata": {},
   "outputs": [],
   "source": []
  }
 ],
 "metadata": {
  "kernelspec": {
   "display_name": "Python 3",
   "language": "python",
   "name": "python3"
  },
  "language_info": {
   "codemirror_mode": {
    "name": "ipython",
    "version": 3
   },
   "file_extension": ".py",
   "mimetype": "text/x-python",
   "name": "python",
   "nbconvert_exporter": "python",
   "pygments_lexer": "ipython3",
   "version": "3.6.5"
  }
 },
 "nbformat": 4,
 "nbformat_minor": 2
}
