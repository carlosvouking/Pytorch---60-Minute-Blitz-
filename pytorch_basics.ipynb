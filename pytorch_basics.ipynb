{
 "cells": [
  {
   "cell_type": "markdown",
   "metadata": {},
   "source": [
    "## Pytorch basics - 60 Minute Blitz. Reference: [Pytorch.org](https://pytorch.org/tutorials/beginner/deep_learning_60min_blitz.html)"
   ]
  },
  {
   "cell_type": "markdown",
   "metadata": {},
   "source": [
    "A python-based computation package such as [Numpy](http://www.numpy.org/), and a speedy and flexible deep learning research platform."
   ]
  },
  {
   "cell_type": "markdown",
   "metadata": {},
   "source": [
    "### TENSORS"
   ]
  },
  {
   "cell_type": "markdown",
   "metadata": {},
   "source": [
    "> On top of mirroring **numpy ndarrays** (n-dimensional array), **pytorch tensors** can help accelerate GPU computing (deep learning purposes). Numpy remains the  'go-to package' for ndarrays. "
   ]
  },
  {
   "cell_type": "code",
   "execution_count": 1,
   "metadata": {},
   "outputs": [],
   "source": [
    "from __future__ import print_function\n",
    "import torch\n",
    "import numpy as np"
   ]
  },
  {
   "cell_type": "code",
   "execution_count": 2,
   "metadata": {},
   "outputs": [
    {
     "name": "stdout",
     "output_type": "stream",
     "text": [
      "Currently running pytorch version: 0.4.1\n"
     ]
    }
   ],
   "source": [
    "print(f'Currently running pytorch version: {torch.__version__}')"
   ]
  },
  {
   "cell_type": "code",
   "execution_count": 3,
   "metadata": {},
   "outputs": [
    {
     "name": "stdout",
     "output_type": "stream",
     "text": [
      "Supported Nvidia GPU available on the system: True\n"
     ]
    }
   ],
   "source": [
    "print(f'Supported Nvidia GPU available on the system: {torch.cuda.is_available()}')"
   ]
  },
  {
   "cell_type": "code",
   "execution_count": 4,
   "metadata": {},
   "outputs": [
    {
     "data": {
      "text/plain": [
       "'8.0.61'"
      ]
     },
     "execution_count": 4,
     "metadata": {},
     "output_type": "execute_result"
    }
   ],
   "source": [
    "torch.version.cuda"
   ]
  },
  {
   "cell_type": "markdown",
   "metadata": {},
   "source": [
    "* An uninitialized 7 by 4 matrix (7 rows and 4 coluymns)"
   ]
  },
  {
   "cell_type": "code",
   "execution_count": 5,
   "metadata": {},
   "outputs": [
    {
     "name": "stdout",
     "output_type": "stream",
     "text": [
      "tensor([[                                      0.0000,\n",
      "                                               0.0000,\n",
      "                                               0.0000,\n",
      "                                               0.0000],\n",
      "        [                                      0.0000,\n",
      "                                               0.0000,\n",
      "                                               0.0000,\n",
      "                                               0.0000],\n",
      "        [                                      0.0000,\n",
      "                                               0.0000,\n",
      "                                               0.0000,\n",
      "                                               0.0000],\n",
      "        [                         -1803299061760.0000,\n",
      "                                               0.0000,\n",
      "                                               0.0000,\n",
      "                                               0.0000],\n",
      "        [                                      0.0000,\n",
      "                                               0.0000,\n",
      "                                               0.0000,\n",
      "                                               0.0000],\n",
      "        [-20288778280267217048460370722919809024.0000,\n",
      "                                               0.0000,\n",
      "                                               0.0000,\n",
      "                                               0.0000],\n",
      "        [                                      0.0000,\n",
      "                                               0.0000,\n",
      "                                               0.0000,\n",
      "                                               0.0000]])\n"
     ]
    },
    {
     "data": {
      "text/plain": [
       "torch.Tensor"
      ]
     },
     "execution_count": 5,
     "metadata": {},
     "output_type": "execute_result"
    }
   ],
   "source": [
    "x = torch.empty(7, 4)\n",
    "print(x)\n",
    "type(x)"
   ]
  },
  {
   "cell_type": "markdown",
   "metadata": {},
   "source": [
    "* As for numpy"
   ]
  },
  {
   "cell_type": "code",
   "execution_count": 6,
   "metadata": {},
   "outputs": [
    {
     "name": "stdout",
     "output_type": "stream",
     "text": [
      "[[0.00000000e+000 0.00000000e+000 0.00000000e+000 0.00000000e+000]\n",
      " [4.67242043e-310 4.67242041e-310 4.67242041e-310 0.00000000e+000]\n",
      " [0.00000000e+000 0.00000000e+000 0.00000000e+000 4.67242043e-310]\n",
      " [4.67242041e-310 4.67242041e-310 0.00000000e+000 0.00000000e+000]\n",
      " [0.00000000e+000 0.00000000e+000 4.67242043e-310 4.67242041e-310]\n",
      " [4.67242041e-310 0.00000000e+000 0.00000000e+000 0.00000000e+000]\n",
      " [1.42290906e-321 3.16202013e-322 4.67242045e-310 4.67242041e-310]]\n"
     ]
    },
    {
     "data": {
      "text/plain": [
       "numpy.ndarray"
      ]
     },
     "execution_count": 6,
     "metadata": {},
     "output_type": "execute_result"
    }
   ],
   "source": [
    "y = np.empty([7, 4])\n",
    "print(y)\n",
    "type(y)"
   ]
  },
  {
   "cell_type": "markdown",
   "metadata": {},
   "source": [
    "* Randomly initialized 7 by 4 matrix"
   ]
  },
  {
   "cell_type": "code",
   "execution_count": 7,
   "metadata": {},
   "outputs": [
    {
     "name": "stdout",
     "output_type": "stream",
     "text": [
      "tensor([[0.2598, 0.5540, 0.1473, 0.8502],\n",
      "        [0.2309, 0.7309, 0.1415, 0.7066],\n",
      "        [0.5014, 0.3624, 0.2710, 0.0654],\n",
      "        [0.2571, 0.2479, 0.5652, 0.9686],\n",
      "        [0.6893, 0.0851, 0.0650, 0.3343],\n",
      "        [0.5177, 0.0188, 0.2122, 0.4656],\n",
      "        [0.2506, 0.7117, 0.8424, 0.9217]])\n"
     ]
    },
    {
     "data": {
      "text/plain": [
       "torch.Tensor"
      ]
     },
     "execution_count": 7,
     "metadata": {},
     "output_type": "execute_result"
    }
   ],
   "source": [
    "x = torch.rand(7, 4)\n",
    "print(x)\n",
    "type(x)"
   ]
  },
  {
   "cell_type": "markdown",
   "metadata": {},
   "source": [
    "* Matrix filled zeros with dtype long"
   ]
  },
  {
   "cell_type": "code",
   "execution_count": 8,
   "metadata": {},
   "outputs": [
    {
     "name": "stdout",
     "output_type": "stream",
     "text": [
      "tensor([[0, 0, 0, 0],\n",
      "        [0, 0, 0, 0],\n",
      "        [0, 0, 0, 0],\n",
      "        [0, 0, 0, 0],\n",
      "        [0, 0, 0, 0],\n",
      "        [0, 0, 0, 0],\n",
      "        [0, 0, 0, 0]])\n"
     ]
    },
    {
     "data": {
      "text/plain": [
       "torch.Tensor"
      ]
     },
     "execution_count": 8,
     "metadata": {},
     "output_type": "execute_result"
    }
   ],
   "source": [
    "x = torch.zeros(7, 4, dtype=torch.long)\n",
    "print(x)\n",
    "type(x)"
   ]
  },
  {
   "cell_type": "markdown",
   "metadata": {},
   "source": [
    "* numpy comparison: a 7 by 4 numpy array filled zeros"
   ]
  },
  {
   "cell_type": "code",
   "execution_count": 9,
   "metadata": {},
   "outputs": [
    {
     "name": "stdout",
     "output_type": "stream",
     "text": [
      "[[0. 0. 0. 0.]\n",
      " [0. 0. 0. 0.]\n",
      " [0. 0. 0. 0.]\n",
      " [0. 0. 0. 0.]\n",
      " [0. 0. 0. 0.]\n",
      " [0. 0. 0. 0.]\n",
      " [0. 0. 0. 0.]]\n"
     ]
    },
    {
     "data": {
      "text/plain": [
       "numpy.ndarray"
      ]
     },
     "execution_count": 9,
     "metadata": {},
     "output_type": "execute_result"
    }
   ],
   "source": [
    "y = np.zeros([7, 4])\n",
    "print(y)\n",
    "type(y)"
   ]
  },
  {
   "cell_type": "markdown",
   "metadata": {},
   "source": [
    "* A pytorch tensor straight from data"
   ]
  },
  {
   "cell_type": "code",
   "execution_count": 10,
   "metadata": {},
   "outputs": [
    {
     "name": "stdout",
     "output_type": "stream",
     "text": [
      "tensor([7.2000, 3.0000])\n"
     ]
    },
    {
     "data": {
      "text/plain": [
       "torch.Tensor"
      ]
     },
     "execution_count": 10,
     "metadata": {},
     "output_type": "execute_result"
    }
   ],
   "source": [
    "x = torch.tensor([7.2, 3])\n",
    "print(x)\n",
    "type(x)"
   ]
  },
  {
   "cell_type": "markdown",
   "metadata": {},
   "source": [
    "* Numpy equivalent"
   ]
  },
  {
   "cell_type": "code",
   "execution_count": 11,
   "metadata": {},
   "outputs": [
    {
     "name": "stdout",
     "output_type": "stream",
     "text": [
      "[7.2 3. ]\n"
     ]
    },
    {
     "data": {
      "text/plain": [
       "numpy.ndarray"
      ]
     },
     "execution_count": 11,
     "metadata": {},
     "output_type": "execute_result"
    }
   ],
   "source": [
    "y = np.array([7.2, 3])\n",
    "print(y)\n",
    "type(y)"
   ]
  },
  {
   "cell_type": "markdown",
   "metadata": {},
   "source": [
    "* pytorch tensor based on a existing tensor"
   ]
  },
  {
   "cell_type": "code",
   "execution_count": 12,
   "metadata": {},
   "outputs": [
    {
     "name": "stdout",
     "output_type": "stream",
     "text": [
      "tensor([[0., 0., 0.],\n",
      "        [0., 0., 0.],\n",
      "        [0., 0., 0.],\n",
      "        [0., 0., 0.],\n",
      "        [0., 0., 0.],\n",
      "        [0., 0., 0.],\n",
      "        [0., 0., 0.]], dtype=torch.float64)\n",
      "\n",
      "tensor([[-1.6152,  0.6271,  2.3313],\n",
      "        [-0.0707,  1.2541,  0.2749],\n",
      "        [ 0.3417,  0.3235,  0.4014],\n",
      "        [-0.6004, -0.0226,  1.7376],\n",
      "        [ 0.0227,  0.3933, -1.1559],\n",
      "        [ 0.6676, -0.1863, -0.7976],\n",
      "        [-0.0128, -0.8387,  0.0233]])\n",
      "\n",
      "torch.Size([7, 3])\n"
     ]
    }
   ],
   "source": [
    "x = x.new_zeros(7, 3, dtype=torch.double)\n",
    "print(x)\n",
    "print('')\n",
    "# overriding the dimension type...\n",
    "x = torch.randn_like(x, dtype=torch.float)\n",
    "print(x)\n",
    "print('')\n",
    "# the result is a tensor of the same size.\n",
    "print(x.size())"
   ]
  },
  {
   "cell_type": "markdown",
   "metadata": {},
   "source": [
    " ==> Diving next into pytorch operations . . . "
   ]
  },
  {
   "cell_type": "markdown",
   "metadata": {},
   "source": [
    "### OPERATIONS"
   ]
  },
  {
   "cell_type": "markdown",
   "metadata": {},
   "source": [
    "### (I)- Additions"
   ]
  },
  {
   "cell_type": "code",
   "execution_count": 13,
   "metadata": {},
   "outputs": [
    {
     "name": "stdout",
     "output_type": "stream",
     "text": [
      "tensor([[-1.6152,  0.6271,  2.3313],\n",
      "        [-0.0707,  1.2541,  0.2749],\n",
      "        [ 0.3417,  0.3235,  0.4014],\n",
      "        [-0.6004, -0.0226,  1.7376],\n",
      "        [ 0.0227,  0.3933, -1.1559],\n",
      "        [ 0.6676, -0.1863, -0.7976],\n",
      "        [-0.0128, -0.8387,  0.0233]])\n"
     ]
    },
    {
     "data": {
      "text/plain": [
       "torch.Size([7, 3])"
      ]
     },
     "execution_count": 13,
     "metadata": {},
     "output_type": "execute_result"
    }
   ],
   "source": [
    "print(x)\n",
    "x.size()"
   ]
  },
  {
   "cell_type": "code",
   "execution_count": 14,
   "metadata": {},
   "outputs": [
    {
     "name": "stdout",
     "output_type": "stream",
     "text": [
      "tensor([[0.8152, 0.9466, 0.3232],\n",
      "        [0.8547, 0.0691, 0.3817],\n",
      "        [0.3728, 0.7139, 0.8901],\n",
      "        [0.7251, 0.0020, 0.5080],\n",
      "        [0.3864, 0.5815, 0.1764],\n",
      "        [0.5553, 0.9525, 0.0258],\n",
      "        [0.4265, 0.9817, 0.5112]])\n"
     ]
    },
    {
     "data": {
      "text/plain": [
       "torch.Size([7, 3])"
      ]
     },
     "execution_count": 14,
     "metadata": {},
     "output_type": "execute_result"
    }
   ],
   "source": [
    "y = torch.rand(7, 3)\n",
    "print(y)\n",
    "y.size()"
   ]
  },
  {
   "cell_type": "code",
   "execution_count": 15,
   "metadata": {},
   "outputs": [
    {
     "name": "stdout",
     "output_type": "stream",
     "text": [
      "Sum of x and y tensors: \n",
      " tensor([[-0.8000,  1.5737,  2.6545],\n",
      "        [ 0.7840,  1.3232,  0.6566],\n",
      "        [ 0.7145,  1.0374,  1.2915],\n",
      "        [ 0.1248, -0.0205,  2.2456],\n",
      "        [ 0.4091,  0.9748, -0.9795],\n",
      "        [ 1.2229,  0.7662, -0.7717],\n",
      "        [ 0.4137,  0.1431,  0.5345]])\n",
      "\n",
      "<class 'torch.Tensor'>\n",
      "\n",
      "torch.Size([7, 3])\n"
     ]
    }
   ],
   "source": [
    "x_plus_y = x + y\n",
    "print(f'Sum of x and y tensors: \\n {x_plus_y}')\n",
    "print('')\n",
    "print(type(x_plus_y))\n",
    "print('')\n",
    "print(x_plus_y.size())"
   ]
  },
  {
   "cell_type": "markdown",
   "metadata": {},
   "source": [
    "#### * Or equally by using **torch.add()**"
   ]
  },
  {
   "cell_type": "code",
   "execution_count": 16,
   "metadata": {},
   "outputs": [
    {
     "name": "stdout",
     "output_type": "stream",
     "text": [
      "Sum of x and y tensors: \n",
      " tensor([[-0.8000,  1.5737,  2.6545],\n",
      "        [ 0.7840,  1.3232,  0.6566],\n",
      "        [ 0.7145,  1.0374,  1.2915],\n",
      "        [ 0.1248, -0.0205,  2.2456],\n",
      "        [ 0.4091,  0.9748, -0.9795],\n",
      "        [ 1.2229,  0.7662, -0.7717],\n",
      "        [ 0.4137,  0.1431,  0.5345]])\n",
      "\n",
      "<class 'torch.Tensor'>\n",
      "\n",
      "torch.Size([7, 3])\n"
     ]
    }
   ],
   "source": [
    "x_plus_y = torch.add(x, y)\n",
    "print(f'Sum of x and y tensors: \\n {x_plus_y}')\n",
    "print('')\n",
    "print(type(x_plus_y))\n",
    "print('')\n",
    "print(x_plus_y.size())"
   ]
  },
  {
   "cell_type": "markdown",
   "metadata": {},
   "source": [
    "#### * or by providing an output tensor as argument of the .add() function"
   ]
  },
  {
   "cell_type": "code",
   "execution_count": 17,
   "metadata": {},
   "outputs": [
    {
     "name": "stdout",
     "output_type": "stream",
     "text": [
      "Sum of x and y tensors: \n",
      " tensor([[-0.8000,  1.5737,  2.6545],\n",
      "        [ 0.7840,  1.3232,  0.6566],\n",
      "        [ 0.7145,  1.0374,  1.2915],\n",
      "        [ 0.1248, -0.0205,  2.2456],\n",
      "        [ 0.4091,  0.9748, -0.9795],\n",
      "        [ 1.2229,  0.7662, -0.7717],\n",
      "        [ 0.4137,  0.1431,  0.5345]])\n",
      "\n",
      "<class 'torch.Tensor'>\n",
      "\n",
      "torch.Size([7, 3])\n"
     ]
    }
   ],
   "source": [
    "# output result tensor with the same dimension as x and y\n",
    "result = torch.empty(7, 4)\n",
    "# addition\n",
    "x_plus_y = torch.add(x, y, out=result)\n",
    "print(f'Sum of x and y tensors: \\n {x_plus_y}')\n",
    "print('')\n",
    "print(type(x_plus_y))\n",
    "print('')\n",
    "print(x_plus_y.size())"
   ]
  },
  {
   "cell_type": "markdown",
   "metadata": {},
   "source": [
    "#### * In-place addition: addition mutates a the tensor y in-place, then the **add()** is suffixed with a **_**."
   ]
  },
  {
   "cell_type": "code",
   "execution_count": 18,
   "metadata": {},
   "outputs": [
    {
     "name": "stdout",
     "output_type": "stream",
     "text": [
      "tensor([[-0.8000,  1.5737,  2.6545],\n",
      "        [ 0.7840,  1.3232,  0.6566],\n",
      "        [ 0.7145,  1.0374,  1.2915],\n",
      "        [ 0.1248, -0.0205,  2.2456],\n",
      "        [ 0.4091,  0.9748, -0.9795],\n",
      "        [ 1.2229,  0.7662, -0.7717],\n",
      "        [ 0.4137,  0.1431,  0.5345]])\n",
      "\n",
      "<class 'torch.Tensor'>\n",
      "\n",
      "torch.Size([7, 3])\n"
     ]
    }
   ],
   "source": [
    "y.add_(x)\n",
    "print(y)\n",
    "print('')\n",
    "print(type(y))\n",
    "print('')\n",
    "print(y.size())"
   ]
  },
  {
   "cell_type": "markdown",
   "metadata": {},
   "source": [
    "#### * Traditional numpy indexing on pytorch tensors"
   ]
  },
  {
   "cell_type": "code",
   "execution_count": 19,
   "metadata": {},
   "outputs": [
    {
     "name": "stdout",
     "output_type": "stream",
     "text": [
      "tensor([ 1.5737,  1.3232,  1.0374, -0.0205,  0.9748,  0.7662,  0.1431])\n"
     ]
    }
   ],
   "source": [
    "# All rows of the second column from the tensor sum of x and y.\n",
    "print(x_plus_y[:, 1])"
   ]
  },
  {
   "cell_type": "markdown",
   "metadata": {},
   "source": [
    "#### * Resizing or reshaping pytorch tensors with **torch.view()**"
   ]
  },
  {
   "cell_type": "code",
   "execution_count": 39,
   "metadata": {},
   "outputs": [
    {
     "name": "stdout",
     "output_type": "stream",
     "text": [
      "tensor([[ 0.7871,  0.2454, -0.5665,  0.8359],\n",
      "        [ 0.4282, -0.6261,  0.3014, -0.1588],\n",
      "        [-2.5699, -0.8793,  0.2373,  0.1782],\n",
      "        [-1.0572, -0.1007, -0.3016, -0.4349]])\n",
      "torch.Size([4, 4])\n",
      "\n",
      "tensor([ 0.7871,  0.2454, -0.5665,  0.8359,  0.4282, -0.6261,  0.3014, -0.1588,\n",
      "        -2.5699, -0.8793,  0.2373,  0.1782, -1.0572, -0.1007, -0.3016, -0.4349])\n",
      "torch.Size([16])\n",
      "\n",
      "tensor([[ 0.7871,  0.2454, -0.5665,  0.8359,  0.4282, -0.6261,  0.3014, -0.1588],\n",
      "        [-2.5699, -0.8793,  0.2373,  0.1782, -1.0572, -0.1007, -0.3016, -0.4349]])\n",
      "torch.Size([2, 8])\n",
      "tensor([[ 0.7871,  0.2454],\n",
      "        [-0.5665,  0.8359],\n",
      "        [ 0.4282, -0.6261],\n",
      "        [ 0.3014, -0.1588],\n",
      "        [-2.5699, -0.8793],\n",
      "        [ 0.2373,  0.1782],\n",
      "        [-1.0572, -0.1007],\n",
      "        [-0.3016, -0.4349]])\n",
      "torch.Size([8, 2])\n"
     ]
    }
   ],
   "source": [
    "x = torch.randn(4, 4)\n",
    "print(x)\n",
    "print(x.size()) \n",
    "print('')\n",
    "\n",
    "y = x.view(16)\n",
    "print(y)\n",
    "print(y.size())\n",
    "print('')\n",
    "\n",
    "z = x.view(-1, 8)   # size -1 is inferred from other dimesions.\n",
    "print(z)\n",
    "print(z.size())\n",
    "\n",
    "w = x.reshape(8,2)\n",
    "print(w)\n",
    "print(w.shape)"
   ]
  },
  {
   "cell_type": "markdown",
   "metadata": {},
   "source": [
    "#### * Use **.item()** to get the value as a Python number in case of one element tensor"
   ]
  },
  {
   "cell_type": "code",
   "execution_count": 20,
   "metadata": {},
   "outputs": [
    {
     "name": "stdout",
     "output_type": "stream",
     "text": [
      "tensor([-0.9705])\n",
      "-0.970464825630188\n",
      "torch.FloatTensor\n"
     ]
    }
   ],
   "source": [
    "x = torch.randn(1)\n",
    "print(x)\n",
    "print(x.item())\n",
    "print(x.type())"
   ]
  },
  {
   "cell_type": "code",
   "execution_count": 21,
   "metadata": {},
   "outputs": [
    {
     "data": {
      "text/plain": [
       "True"
      ]
     },
     "execution_count": 21,
     "metadata": {},
     "output_type": "execute_result"
    }
   ],
   "source": [
    "torch.is_tensor(x_plus_y)"
   ]
  },
  {
   "cell_type": "markdown",
   "metadata": {},
   "source": [
    "### * Understanding Pytorch tensors: Ranks - Axes - Shapes\n",
    "> Rank tells us the number of axes of the tensor :: here x_plus_y is a **Rank 2 tensor**"
   ]
  },
  {
   "cell_type": "code",
   "execution_count": 22,
   "metadata": {},
   "outputs": [
    {
     "name": "stdout",
     "output_type": "stream",
     "text": [
      "1rst element of axis 1: tensor([-0.8000,  1.5737,  2.6545])\n",
      "2nd element of axis 1: tensor([0.7840, 1.3232, 0.6566])\n",
      "3rd element of axis 1: tensor([0.7145, 1.0374, 1.2915])\n",
      "4th element of axis 1: tensor([ 0.1248, -0.0205,  2.2456])\n",
      "5th element of axis 1: tensor([ 0.4091,  0.9748, -0.9795])\n",
      "6th element of axis 1: tensor([ 1.2229,  0.7662, -0.7717])\n",
      "7th element of axis 1: tensor([0.4137, 0.1431, 0.5345])\n"
     ]
    }
   ],
   "source": [
    "# 1rst index of axis 1 :: first element along the first axis of the tensor :: each of those eelements is an array.\n",
    "print(f'1rst element of axis 1: {x_plus_y[0]}')\n",
    "\n",
    "# 2nd index along the first axis of the tensor\n",
    "print(f'2nd element of axis 1: {x_plus_y[1]}')\n",
    "\n",
    "# 3rd index along the first axis of the tensor\n",
    "print(f'3rd element of axis 1: {x_plus_y[2]}')\n",
    "\n",
    "# 4th index along the first axis of the tensor\n",
    "print(f'4th element of axis 1: {x_plus_y[3]}')\n",
    "\n",
    "# 5th index along the first axis of the tensor\n",
    "print(f'5th element of axis 1: {x_plus_y[4]}')\n",
    "\n",
    "# 6th index along the first axis of the tensor\n",
    "print(f'6th element of axis 1: {x_plus_y[5]}')\n",
    "\n",
    "# 7th index along the first axis of the tensor\n",
    "print(f'7th element of axis 1: {x_plus_y[6]}')"
   ]
  },
  {
   "cell_type": "code",
   "execution_count": 23,
   "metadata": {},
   "outputs": [
    {
     "name": "stdout",
     "output_type": "stream",
     "text": [
      "tensor(-0.8000)\n",
      "tensor(0.7840)\n",
      "tensor(0.7145)\n",
      "tensor(0.4091)\n",
      "tensor(1.2229)\n",
      "tensor(0.4137)\n"
     ]
    }
   ],
   "source": [
    "# first index of axis 2 :: each of these elements is a float \n",
    "print(x_plus_y[0][0])\n",
    "\n",
    "print(x_plus_y[1][0])\n",
    "\n",
    "print(x_plus_y[2][0])\n",
    "\n",
    "print(x_plus_y[4][0])\n",
    "\n",
    "print(x_plus_y[5][0])\n",
    "\n",
    "print(x_plus_y[6][0])"
   ]
  },
  {
   "cell_type": "code",
   "execution_count": 24,
   "metadata": {},
   "outputs": [
    {
     "name": "stdout",
     "output_type": "stream",
     "text": [
      "tensor(1.5737)\n",
      "tensor(1.3232)\n",
      "tensor(1.0374)\n",
      "tensor(-0.0205)\n",
      "tensor(0.9748)\n",
      "tensor(0.7662)\n",
      "tensor(0.1431)\n"
     ]
    }
   ],
   "source": [
    "# second index of axis 2 \n",
    "print(x_plus_y[0][1])\n",
    "\n",
    "print(x_plus_y[1][1])\n",
    "\n",
    "print(x_plus_y[2][1])\n",
    "\n",
    "print(x_plus_y[3][1])\n",
    "\n",
    "print(x_plus_y[4][1])\n",
    "\n",
    "print(x_plus_y[5][1])\n",
    "\n",
    "print(x_plus_y[6][1])"
   ]
  },
  {
   "cell_type": "code",
   "execution_count": 25,
   "metadata": {},
   "outputs": [
    {
     "name": "stdout",
     "output_type": "stream",
     "text": [
      "tensor(2.6545)\n",
      "tensor(0.6566)\n",
      "tensor(1.2915)\n",
      "tensor(2.2456)\n",
      "tensor(-0.9795)\n",
      "tensor(-0.7717)\n",
      "tensor(0.5345)\n"
     ]
    }
   ],
   "source": [
    "# third index of axis 2\n",
    "print(x_plus_y[0][2])\n",
    "\n",
    "print(x_plus_y[1][2])\n",
    "\n",
    "print(x_plus_y[2][2])\n",
    "\n",
    "print(x_plus_y[3][2])\n",
    "\n",
    "print(x_plus_y[4][2])\n",
    "\n",
    "print(x_plus_y[5][2])\n",
    "\n",
    "print(x_plus_y[6][2])"
   ]
  },
  {
   "cell_type": "markdown",
   "metadata": {},
   "source": [
    "#### * Kowing the shape of a tensor means knowing the length of its axes. This also tells how many indexes are available along each axis.\n",
    "> The first axis has 7 indexes(length=7) and the second axis 3 indexes(length=3). In pytorch shape and size means the same thing. Don't be surprised by the result saying 'torch.Size'."
   ]
  },
  {
   "cell_type": "code",
   "execution_count": 26,
   "metadata": {},
   "outputs": [
    {
     "data": {
      "text/plain": [
       "torch.Size([7, 3])"
      ]
     },
     "execution_count": 26,
     "metadata": {},
     "output_type": "execute_result"
    }
   ],
   "source": [
    "x_plus_y.shape"
   ]
  },
  {
   "cell_type": "markdown",
   "metadata": {},
   "source": [
    "> The rank of x_plus_y is just the length of its shape."
   ]
  },
  {
   "cell_type": "code",
   "execution_count": 30,
   "metadata": {},
   "outputs": [
    {
     "name": "stdout",
     "output_type": "stream",
     "text": [
      "x_plus_y is of rank: 2.\n"
     ]
    }
   ],
   "source": [
    "rank = len(x_plus_y.shape)\n",
    "print(f'x_plus_y is of rank: {rank}.')"
   ]
  },
  {
   "cell_type": "markdown",
   "metadata": {},
   "source": [
    "### * Tensors reshaping on Convolutional Neural Nets (CNN)\n",
    "> We have here an image input as a tensor to a CNN. Also remembering that the shape of a tensor encapsulates the information on the tensor rank, axes and indexes.\n"
   ]
  },
  {
   "cell_type": "code",
   "execution_count": null,
   "metadata": {},
   "outputs": [],
   "source": []
  }
 ],
 "metadata": {
  "kernelspec": {
   "display_name": "Python 3",
   "language": "python",
   "name": "python3"
  },
  "language_info": {
   "codemirror_mode": {
    "name": "ipython",
    "version": 3
   },
   "file_extension": ".py",
   "mimetype": "text/x-python",
   "name": "python",
   "nbconvert_exporter": "python",
   "pygments_lexer": "ipython3",
   "version": "3.6.5"
  }
 },
 "nbformat": 4,
 "nbformat_minor": 2
}
