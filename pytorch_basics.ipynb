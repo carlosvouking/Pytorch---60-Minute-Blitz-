{
 "cells": [
  {
   "cell_type": "markdown",
   "metadata": {},
   "source": [
    "## Pytorch basics - 60 Minute Blitz. Reference: [Pytorch.org](https://pytorch.org/tutorials/beginner/deep_learning_60min_blitz.html)"
   ]
  },
  {
   "cell_type": "markdown",
   "metadata": {},
   "source": [
    "A python-based computation package such as [Numpy](http://www.numpy.org/), and a speedy and flexible deep learning research platform."
   ]
  },
  {
   "cell_type": "markdown",
   "metadata": {},
   "source": [
    "### TENSORS"
   ]
  },
  {
   "cell_type": "markdown",
   "metadata": {},
   "source": [
    "> On top of mirroring **numpy ndarrays** (n-dimensional array), **pytorch tensors** can help accelerate GPU computing (deep learning purposes). Numpy remains the  'go-to package' for ndarrays. "
   ]
  },
  {
   "cell_type": "code",
   "execution_count": 1,
   "metadata": {},
   "outputs": [],
   "source": [
    "from __future__ import print_function\n",
    "import torch\n",
    "import numpy as np"
   ]
  },
  {
   "cell_type": "markdown",
   "metadata": {},
   "source": [
    "* An uninitialized 7 by 4 matrix (7 rows and 4 coluymns)"
   ]
  },
  {
   "cell_type": "code",
   "execution_count": 2,
   "metadata": {},
   "outputs": [
    {
     "name": "stdout",
     "output_type": "stream",
     "text": [
      "tensor([[ 0.0000e+00,  0.0000e+00,  0.0000e+00,  4.5869e-41],\n",
      "        [ 1.6276e+31,  3.0773e-41,  0.0000e+00,  0.0000e+00],\n",
      "        [ 7.3908e+22,  0.0000e+00,  0.0000e+00,  0.0000e+00],\n",
      "        [-1.8207e+26,  4.5869e-41,  1.4013e-45,  0.0000e+00],\n",
      "        [ 0.0000e+00,  0.0000e+00, -2.1521e-08,  4.5869e-41],\n",
      "        [ 0.0000e+00,  0.0000e+00,  0.0000e+00,  0.0000e+00],\n",
      "        [ 0.0000e+00,  0.0000e+00,  0.0000e+00,  0.0000e+00]])\n"
     ]
    },
    {
     "data": {
      "text/plain": [
       "torch.Tensor"
      ]
     },
     "execution_count": 2,
     "metadata": {},
     "output_type": "execute_result"
    }
   ],
   "source": [
    "x = torch.empty(7, 4)\n",
    "print(x)\n",
    "type(x)"
   ]
  },
  {
   "cell_type": "markdown",
   "metadata": {},
   "source": [
    "* As for numpy"
   ]
  },
  {
   "cell_type": "code",
   "execution_count": 3,
   "metadata": {},
   "outputs": [
    {
     "name": "stdout",
     "output_type": "stream",
     "text": [
      "[[6.01433264e+175 6.93885958e+218 5.56218858e+180 3.94356143e+180]\n",
      " [1.32412517e-071 7.16590035e-038 6.22694450e+174 6.18633154e+169]\n",
      " [5.73917536e-143 1.50008929e+248 2.59305228e-306 8.74496193e-322]\n",
      " [6.94612348e-310 4.65999776e-310 4.65999835e-310 4.65999778e-310]\n",
      " [6.94607618e-310 4.65999778e-310             nan 1.38338381e-322]\n",
      " [0.00000000e+000 6.94611455e-310 6.94607697e-310 0.00000000e+000]\n",
      " [1.52761333e+262 3.21142670e-322 4.65999835e-310 4.65999776e-310]]\n"
     ]
    },
    {
     "data": {
      "text/plain": [
       "numpy.ndarray"
      ]
     },
     "execution_count": 3,
     "metadata": {},
     "output_type": "execute_result"
    }
   ],
   "source": [
    "y = np.empty([7, 4])\n",
    "print(y)\n",
    "type(y)"
   ]
  },
  {
   "cell_type": "markdown",
   "metadata": {},
   "source": [
    "* Randomly initialized 7 by 4 matrix"
   ]
  },
  {
   "cell_type": "code",
   "execution_count": 4,
   "metadata": {},
   "outputs": [
    {
     "name": "stdout",
     "output_type": "stream",
     "text": [
      "tensor([[0.6412, 0.8474, 0.5173, 0.3816],\n",
      "        [0.5540, 0.8274, 0.7321, 0.7167],\n",
      "        [0.6673, 0.0033, 0.1976, 0.9670],\n",
      "        [0.7375, 0.6551, 0.9248, 0.9288],\n",
      "        [0.8532, 0.4927, 0.3787, 0.1674],\n",
      "        [0.3049, 0.4840, 0.5114, 0.4458],\n",
      "        [0.9252, 0.2005, 0.1560, 0.9287]])\n"
     ]
    },
    {
     "data": {
      "text/plain": [
       "torch.Tensor"
      ]
     },
     "execution_count": 4,
     "metadata": {},
     "output_type": "execute_result"
    }
   ],
   "source": [
    "x = torch.rand(7, 4)\n",
    "print(x)\n",
    "type(x)"
   ]
  },
  {
   "cell_type": "markdown",
   "metadata": {},
   "source": [
    "* Matrix filled zeros with dtype long"
   ]
  },
  {
   "cell_type": "code",
   "execution_count": 5,
   "metadata": {},
   "outputs": [
    {
     "name": "stdout",
     "output_type": "stream",
     "text": [
      "tensor([[0, 0, 0, 0],\n",
      "        [0, 0, 0, 0],\n",
      "        [0, 0, 0, 0],\n",
      "        [0, 0, 0, 0],\n",
      "        [0, 0, 0, 0],\n",
      "        [0, 0, 0, 0],\n",
      "        [0, 0, 0, 0]])\n"
     ]
    },
    {
     "data": {
      "text/plain": [
       "torch.Tensor"
      ]
     },
     "execution_count": 5,
     "metadata": {},
     "output_type": "execute_result"
    }
   ],
   "source": [
    "x = torch.zeros(7, 4, dtype=torch.long)\n",
    "print(x)\n",
    "type(x)"
   ]
  },
  {
   "cell_type": "markdown",
   "metadata": {},
   "source": [
    "* numpy comparison: a 7 by 4 numpy array filled zeros"
   ]
  },
  {
   "cell_type": "code",
   "execution_count": 6,
   "metadata": {},
   "outputs": [
    {
     "name": "stdout",
     "output_type": "stream",
     "text": [
      "[[0. 0. 0. 0.]\n",
      " [0. 0. 0. 0.]\n",
      " [0. 0. 0. 0.]\n",
      " [0. 0. 0. 0.]\n",
      " [0. 0. 0. 0.]\n",
      " [0. 0. 0. 0.]\n",
      " [0. 0. 0. 0.]]\n"
     ]
    },
    {
     "data": {
      "text/plain": [
       "numpy.ndarray"
      ]
     },
     "execution_count": 6,
     "metadata": {},
     "output_type": "execute_result"
    }
   ],
   "source": [
    "y = np.zeros([7, 4])\n",
    "print(y)\n",
    "type(y)"
   ]
  },
  {
   "cell_type": "markdown",
   "metadata": {},
   "source": [
    "* A pytorch tensor straight from data"
   ]
  },
  {
   "cell_type": "code",
   "execution_count": 7,
   "metadata": {},
   "outputs": [
    {
     "name": "stdout",
     "output_type": "stream",
     "text": [
      "tensor([7.2000, 3.0000])\n"
     ]
    },
    {
     "data": {
      "text/plain": [
       "torch.Tensor"
      ]
     },
     "execution_count": 7,
     "metadata": {},
     "output_type": "execute_result"
    }
   ],
   "source": [
    "x = torch.tensor([7.2, 3])\n",
    "print(x)\n",
    "type(x)"
   ]
  },
  {
   "cell_type": "markdown",
   "metadata": {},
   "source": [
    "* Numpy equivalent"
   ]
  },
  {
   "cell_type": "code",
   "execution_count": 8,
   "metadata": {},
   "outputs": [
    {
     "name": "stdout",
     "output_type": "stream",
     "text": [
      "[7.2 3. ]\n"
     ]
    },
    {
     "data": {
      "text/plain": [
       "numpy.ndarray"
      ]
     },
     "execution_count": 8,
     "metadata": {},
     "output_type": "execute_result"
    }
   ],
   "source": [
    "y = np.array([7.2, 3])\n",
    "print(y)\n",
    "type(y)"
   ]
  },
  {
   "cell_type": "markdown",
   "metadata": {},
   "source": [
    "* pytorch tensor based on a existing tensor"
   ]
  },
  {
   "cell_type": "code",
   "execution_count": 9,
   "metadata": {},
   "outputs": [
    {
     "name": "stdout",
     "output_type": "stream",
     "text": [
      "tensor([[0., 0., 0.],\n",
      "        [0., 0., 0.],\n",
      "        [0., 0., 0.],\n",
      "        [0., 0., 0.],\n",
      "        [0., 0., 0.],\n",
      "        [0., 0., 0.],\n",
      "        [0., 0., 0.]], dtype=torch.float64)\n",
      "\n",
      "tensor([[ 0.1125, -0.7731, -1.3343],\n",
      "        [ 0.8490, -1.4828, -0.6357],\n",
      "        [-1.3173,  0.5408, -0.1278],\n",
      "        [ 0.6522, -0.0345,  0.2939],\n",
      "        [ 0.4726,  1.0768,  0.8550],\n",
      "        [-1.8919,  0.9399, -0.6416],\n",
      "        [-0.5209,  0.4455, -0.2860]])\n",
      "\n",
      "torch.Size([7, 3])\n"
     ]
    }
   ],
   "source": [
    "x = x.new_zeros(7, 3, dtype=torch.double)\n",
    "print(x)\n",
    "print('')\n",
    "# overriding the dimension type...\n",
    "x = torch.randn_like(x, dtype=torch.float)\n",
    "print(x)\n",
    "print('')\n",
    "# the result is a tensor of the same size.\n",
    "print(x.size())"
   ]
  },
  {
   "cell_type": "markdown",
   "metadata": {},
   "source": [
    " ==> Diving next into pytorch operations . . . "
   ]
  },
  {
   "cell_type": "markdown",
   "metadata": {},
   "source": [
    "### OPERATIONS"
   ]
  },
  {
   "cell_type": "markdown",
   "metadata": {},
   "source": [
    "### (I)- Additions"
   ]
  },
  {
   "cell_type": "code",
   "execution_count": 10,
   "metadata": {},
   "outputs": [
    {
     "name": "stdout",
     "output_type": "stream",
     "text": [
      "tensor([[ 0.1125, -0.7731, -1.3343],\n",
      "        [ 0.8490, -1.4828, -0.6357],\n",
      "        [-1.3173,  0.5408, -0.1278],\n",
      "        [ 0.6522, -0.0345,  0.2939],\n",
      "        [ 0.4726,  1.0768,  0.8550],\n",
      "        [-1.8919,  0.9399, -0.6416],\n",
      "        [-0.5209,  0.4455, -0.2860]])\n"
     ]
    },
    {
     "data": {
      "text/plain": [
       "torch.Size([7, 3])"
      ]
     },
     "execution_count": 10,
     "metadata": {},
     "output_type": "execute_result"
    }
   ],
   "source": [
    "print(x)\n",
    "x.size()"
   ]
  },
  {
   "cell_type": "code",
   "execution_count": 11,
   "metadata": {},
   "outputs": [
    {
     "name": "stdout",
     "output_type": "stream",
     "text": [
      "tensor([[0.2731, 0.2422, 0.5257],\n",
      "        [0.9801, 0.9123, 0.9213],\n",
      "        [0.4536, 0.1914, 0.3921],\n",
      "        [0.6148, 0.4081, 0.5940],\n",
      "        [0.1864, 0.5297, 0.2820],\n",
      "        [0.2557, 0.3577, 0.1143],\n",
      "        [0.3816, 0.7508, 0.0488]])\n"
     ]
    },
    {
     "data": {
      "text/plain": [
       "torch.Size([7, 3])"
      ]
     },
     "execution_count": 11,
     "metadata": {},
     "output_type": "execute_result"
    }
   ],
   "source": [
    "y = torch.rand(7, 3)\n",
    "print(y)\n",
    "y.size()"
   ]
  },
  {
   "cell_type": "code",
   "execution_count": 12,
   "metadata": {},
   "outputs": [
    {
     "name": "stdout",
     "output_type": "stream",
     "text": [
      "Sum of x and y tensors: \n",
      " tensor([[ 0.3856, -0.5309, -0.8086],\n",
      "        [ 1.8290, -0.5705,  0.2856],\n",
      "        [-0.8637,  0.7322,  0.2643],\n",
      "        [ 1.2670,  0.3736,  0.8880],\n",
      "        [ 0.6589,  1.6064,  1.1370],\n",
      "        [-1.6362,  1.2976, -0.5273],\n",
      "        [-0.1392,  1.1963, -0.2372]])\n",
      "\n",
      "<class 'torch.Tensor'>\n",
      "\n",
      "torch.Size([7, 3])\n"
     ]
    }
   ],
   "source": [
    "x_plus_y = x + y\n",
    "print(f'Sum of x and y tensors: \\n {x_plus_y}')\n",
    "print('')\n",
    "print(type(x_plus_y))\n",
    "print('')\n",
    "print(x_plus_y.size())"
   ]
  },
  {
   "cell_type": "markdown",
   "metadata": {},
   "source": [
    "#### * Or equally by using **torch.add()**"
   ]
  },
  {
   "cell_type": "code",
   "execution_count": 13,
   "metadata": {},
   "outputs": [
    {
     "name": "stdout",
     "output_type": "stream",
     "text": [
      "Sum of x and y tensors: \n",
      " tensor([[ 0.3856, -0.5309, -0.8086],\n",
      "        [ 1.8290, -0.5705,  0.2856],\n",
      "        [-0.8637,  0.7322,  0.2643],\n",
      "        [ 1.2670,  0.3736,  0.8880],\n",
      "        [ 0.6589,  1.6064,  1.1370],\n",
      "        [-1.6362,  1.2976, -0.5273],\n",
      "        [-0.1392,  1.1963, -0.2372]])\n",
      "\n",
      "<class 'torch.Tensor'>\n",
      "\n",
      "torch.Size([7, 3])\n"
     ]
    }
   ],
   "source": [
    "x_plus_y = torch.add(x, y)\n",
    "print(f'Sum of x and y tensors: \\n {x_plus_y}')\n",
    "print('')\n",
    "print(type(x_plus_y))\n",
    "print('')\n",
    "print(x_plus_y.size())"
   ]
  },
  {
   "cell_type": "markdown",
   "metadata": {},
   "source": [
    "#### * or by providing an output tensor as argument of the .add() function"
   ]
  },
  {
   "cell_type": "code",
   "execution_count": 14,
   "metadata": {},
   "outputs": [
    {
     "name": "stdout",
     "output_type": "stream",
     "text": [
      "Sum of x and y tensors: \n",
      " tensor([[ 0.3856, -0.5309, -0.8086],\n",
      "        [ 1.8290, -0.5705,  0.2856],\n",
      "        [-0.8637,  0.7322,  0.2643],\n",
      "        [ 1.2670,  0.3736,  0.8880],\n",
      "        [ 0.6589,  1.6064,  1.1370],\n",
      "        [-1.6362,  1.2976, -0.5273],\n",
      "        [-0.1392,  1.1963, -0.2372]])\n",
      "\n",
      "<class 'torch.Tensor'>\n",
      "\n",
      "torch.Size([7, 3])\n"
     ]
    }
   ],
   "source": [
    "# output result tensor with the same dimension as x and y\n",
    "result = torch.empty(7, 4)\n",
    "# addition\n",
    "x_plus_y = torch.add(x, y, out=result)\n",
    "print(f'Sum of x and y tensors: \\n {x_plus_y}')\n",
    "print('')\n",
    "print(type(x_plus_y))\n",
    "print('')\n",
    "print(x_plus_y.size())"
   ]
  },
  {
   "cell_type": "markdown",
   "metadata": {},
   "source": [
    "#### * In-place addition: addition mutates a the tensor y in-place, then the **add()** is suffixed with a **_**."
   ]
  },
  {
   "cell_type": "code",
   "execution_count": 15,
   "metadata": {},
   "outputs": [
    {
     "name": "stdout",
     "output_type": "stream",
     "text": [
      "tensor([[ 0.3856, -0.5309, -0.8086],\n",
      "        [ 1.8290, -0.5705,  0.2856],\n",
      "        [-0.8637,  0.7322,  0.2643],\n",
      "        [ 1.2670,  0.3736,  0.8880],\n",
      "        [ 0.6589,  1.6064,  1.1370],\n",
      "        [-1.6362,  1.2976, -0.5273],\n",
      "        [-0.1392,  1.1963, -0.2372]])\n",
      "\n",
      "<class 'torch.Tensor'>\n",
      "\n",
      "torch.Size([7, 3])\n"
     ]
    }
   ],
   "source": [
    "y.add_(x)\n",
    "print(y)\n",
    "print('')\n",
    "print(type(y))\n",
    "print('')\n",
    "print(y.size())"
   ]
  },
  {
   "cell_type": "markdown",
   "metadata": {},
   "source": [
    "#### * Traditional numpy indexing on pytorch tensors"
   ]
  },
  {
   "cell_type": "code",
   "execution_count": 18,
   "metadata": {},
   "outputs": [
    {
     "name": "stdout",
     "output_type": "stream",
     "text": [
      "tensor([-0.5309, -0.5705,  0.7322,  0.3736,  1.6064,  1.2976,  1.1963])\n"
     ]
    }
   ],
   "source": [
    "# All rows of the second column from the tensor sum of x and y.\n",
    "print(x_plus_y[:, 1])"
   ]
  },
  {
   "cell_type": "markdown",
   "metadata": {},
   "source": [
    "#### * Resizing or reshaping pytorch tensors with **torch.view()**"
   ]
  },
  {
   "cell_type": "markdown",
   "metadata": {},
   "source": [
    "x = torch.randn(4, 4)\n",
    "print(x)\n",
    "print(x.size()) \n",
    "print('')\n",
    "\n",
    "y = x.view(16)\n",
    "print(y)\n",
    "print(y.size())\n",
    "print('')\n",
    "\n",
    "z = x.view(-1, 8)   # size -1 is inferred from other dimesions.\n",
    "print(x)\n",
    "print(z.size())"
   ]
  },
  {
   "cell_type": "markdown",
   "metadata": {},
   "source": [
    "#### * Use **.item()** to get the value as a Python number in case of one element tensor"
   ]
  },
  {
   "cell_type": "code",
   "execution_count": 37,
   "metadata": {},
   "outputs": [
    {
     "name": "stdout",
     "output_type": "stream",
     "text": [
      "tensor([0.7264])\n",
      "0.7263967990875244\n",
      "torch.FloatTensor\n"
     ]
    }
   ],
   "source": [
    "x = torch.randn(1)\n",
    "print(x)\n",
    "print(x.item())\n",
    "print(x.type())"
   ]
  },
  {
   "cell_type": "code",
   "execution_count": 39,
   "metadata": {},
   "outputs": [
    {
     "data": {
      "text/plain": [
       "True"
      ]
     },
     "execution_count": 39,
     "metadata": {},
     "output_type": "execute_result"
    }
   ],
   "source": [
    "torch.is_tensor(x)"
   ]
  },
  {
   "cell_type": "code",
   "execution_count": null,
   "metadata": {},
   "outputs": [],
   "source": []
  }
 ],
 "metadata": {
  "kernelspec": {
   "display_name": "Python 3",
   "language": "python",
   "name": "python3"
  },
  "language_info": {
   "codemirror_mode": {
    "name": "ipython",
    "version": 3
   },
   "file_extension": ".py",
   "mimetype": "text/x-python",
   "name": "python",
   "nbconvert_exporter": "python",
   "pygments_lexer": "ipython3",
   "version": "3.6.5"
  }
 },
 "nbformat": 4,
 "nbformat_minor": 2
}
